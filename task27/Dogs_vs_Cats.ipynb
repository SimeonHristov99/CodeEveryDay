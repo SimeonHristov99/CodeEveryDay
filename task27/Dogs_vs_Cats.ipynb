{
  "nbformat": 4,
  "nbformat_minor": 0,
  "metadata": {
    "colab": {
      "name": "Dogs vs. Cats",
      "provenance": [],
      "authorship_tag": "ABX9TyO22I2fV3q37Fojr6k24p9D",
      "include_colab_link": true
    },
    "kernelspec": {
      "name": "python3",
      "display_name": "Python 3"
    },
    "language_info": {
      "name": "python"
    }
  },
  "cells": [
    {
      "cell_type": "markdown",
      "metadata": {
        "id": "view-in-github",
        "colab_type": "text"
      },
      "source": [
        "<a href=\"https://colab.research.google.com/github/SimeonHristov99/CodeEveryDay/blob/main/Dogs_vs_Cats.ipynb\" target=\"_parent\"><img src=\"https://colab.research.google.com/assets/colab-badge.svg\" alt=\"Open In Colab\"/></a>"
      ]
    },
    {
      "cell_type": "code",
      "metadata": {
        "colab": {
          "base_uri": "https://localhost:8080/"
        },
        "id": "WvMdgyA-AyMd",
        "outputId": "f9c18024-3de0-44dd-9b71-cd519e666ad4"
      },
      "source": [
        "import os\n",
        "import zipfile\n",
        "from glob import glob\n",
        "\n",
        "import tensorflow as tf\n",
        "print(tf.__version__)\n",
        "\n",
        "import numpy as np\n",
        "import matplotlib.pyplot as plt"
      ],
      "execution_count": 26,
      "outputs": [
        {
          "output_type": "stream",
          "name": "stdout",
          "text": [
            "2.7.0\n"
          ]
        }
      ]
    },
    {
      "cell_type": "code",
      "metadata": {
        "id": "7XbcWW7vBPrs"
      },
      "source": [
        "config = {\n",
        "    'kaggle_dir': '../gdrive/MyDrive/kaggle',\n",
        "}"
      ],
      "execution_count": 5,
      "outputs": []
    },
    {
      "cell_type": "code",
      "metadata": {
        "colab": {
          "base_uri": "https://localhost:8080/"
        },
        "id": "EzwGRtW2BOVP",
        "outputId": "c52623a3-d9f7-452c-8dff-67f381206179"
      },
      "source": [
        "os.chdir('/content')\n",
        "if not os.path.isdir('data'):\n",
        "  kaggle_dir = config.get('kaggle_dir', None)\n",
        "\n",
        "  from google.colab import drive\n",
        "  drive.mount('/gdrive')\n",
        "  \n",
        "  assert kaggle_dir is not None and os.path.isdir(kaggle_dir), 'Kaggle directory not found!'\n",
        "  assert os.path.isfile(f'{kaggle_dir}/kaggle.json'), 'Kaggle API token not found!'\n",
        "\n",
        "  !pip install -q kaggle\n",
        "  os.environ['KAGGLE_CONFIG_DIR'] = kaggle_dir\n",
        "\n",
        "  # <insert kaggle API command here>\n",
        "  # <example\n",
        "  # !kaggle datasets download -d humansintheloop/semantic-segmentation-of-aerial-imagery\n",
        "  # >\n",
        "  !kaggle competitions download -c dogs-vs-cats -p /content/data/\n",
        "  assert os.path.isdir('data'), 'ERROR: Could not download the dataset!'\n",
        "  print('Successfully downloaded the dataset!')\n",
        "else:\n",
        "  print('Dataset already downloaded.')"
      ],
      "execution_count": 13,
      "outputs": [
        {
          "output_type": "stream",
          "name": "stdout",
          "text": [
            "Drive already mounted at /gdrive; to attempt to forcibly remount, call drive.mount(\"/gdrive\", force_remount=True).\n",
            "Warning: Looks like you're using an outdated API Version, please consider updating (server 1.5.12 / client 1.5.4)\n",
            "Downloading train.zip to /content/data\n",
            " 97% 529M/543M [00:04<00:00, 125MB/s]\n",
            "100% 543M/543M [00:04<00:00, 129MB/s]\n",
            "Downloading sampleSubmission.csv to /content/data\n",
            "  0% 0.00/86.8k [00:00<?, ?B/s]\n",
            "100% 86.8k/86.8k [00:00<00:00, 74.3MB/s]\n",
            "Downloading test1.zip to /content/data\n",
            " 99% 269M/271M [00:03<00:00, 92.4MB/s]\n",
            "100% 271M/271M [00:03<00:00, 80.5MB/s]\n",
            "Successfully downloaded the dataset!\n"
          ]
        }
      ]
    },
    {
      "cell_type": "code",
      "metadata": {
        "id": "UqlxXcntBVod"
      },
      "source": [
        "with zipfile.ZipFile(\"/content/data/test1.zip\",\"r\") as zip_ref:\n",
        "    zip_ref.extractall(\"/content/data/test1\")\n",
        "\n",
        "with zipfile.ZipFile(\"/content/data/train.zip\",\"r\") as zip_ref:\n",
        "    zip_ref.extractall(\"/content/data/train\")"
      ],
      "execution_count": 14,
      "outputs": []
    },
    {
      "cell_type": "code",
      "metadata": {
        "colab": {
          "base_uri": "https://localhost:8080/"
        },
        "id": "jxQKNgYPHXkY",
        "outputId": "60c965ce-ded5-4f51-d891-a732887b5a81"
      },
      "source": [
        "len(glob('/content/data/train/train/dog*'))"
      ],
      "execution_count": 28,
      "outputs": [
        {
          "output_type": "execute_result",
          "data": {
            "text/plain": [
              "12500"
            ]
          },
          "metadata": {},
          "execution_count": 28
        }
      ]
    },
    {
      "cell_type": "code",
      "metadata": {
        "colab": {
          "base_uri": "https://localhost:8080/"
        },
        "id": "PkCbKsTlHvxp",
        "outputId": "787818e5-7ca8-4acc-cc75-45bf661840da"
      },
      "source": [
        "len(glob('/content/data/train/train/cat*'))"
      ],
      "execution_count": 29,
      "outputs": [
        {
          "output_type": "execute_result",
          "data": {
            "text/plain": [
              "12500"
            ]
          },
          "metadata": {},
          "execution_count": 29
        }
      ]
    },
    {
      "cell_type": "code",
      "metadata": {
        "colab": {
          "base_uri": "https://localhost:8080/"
        },
        "id": "03PfMoujHOMN",
        "outputId": "b283d28c-70d3-4ef9-f5be-44dea533f64a"
      },
      "source": [
        "len(glob('/content/data/train/train/*'))"
      ],
      "execution_count": 30,
      "outputs": [
        {
          "output_type": "execute_result",
          "data": {
            "text/plain": [
              "25000"
            ]
          },
          "metadata": {},
          "execution_count": 30
        }
      ]
    },
    {
      "cell_type": "markdown",
      "metadata": {
        "id": "c1FtXdrUH10l"
      },
      "source": [
        "Classes are balanced."
      ]
    },
    {
      "cell_type": "code",
      "metadata": {
        "id": "JZlRFiuYIsoq"
      },
      "source": [
        "def get_x_y(path):\n",
        "  X = np.array(os.listdir(path))\n",
        "  y = np.array([ x.split('.')[0].capitalize() for x in X ])\n",
        "  return X, y"
      ],
      "execution_count": 44,
      "outputs": []
    },
    {
      "cell_type": "code",
      "metadata": {
        "id": "2NA5DO2ZKAgA"
      },
      "source": [
        "X, y = get_x_y('/content/data/train/train')"
      ],
      "execution_count": 45,
      "outputs": []
    },
    {
      "cell_type": "code",
      "metadata": {
        "colab": {
          "base_uri": "https://localhost:8080/"
        },
        "id": "tRb0RjOvKEOF",
        "outputId": "4b1eff2c-26b1-44f6-cd4c-096552fb7c9f"
      },
      "source": [
        "X"
      ],
      "execution_count": 46,
      "outputs": [
        {
          "output_type": "execute_result",
          "data": {
            "text/plain": [
              "array(['dog.3632.jpg', 'dog.7775.jpg', 'cat.225.jpg', ..., 'cat.1950.jpg',\n",
              "       'dog.3212.jpg', 'cat.5132.jpg'], dtype='<U13')"
            ]
          },
          "metadata": {},
          "execution_count": 46
        }
      ]
    },
    {
      "cell_type": "code",
      "metadata": {
        "colab": {
          "base_uri": "https://localhost:8080/"
        },
        "id": "YXVT3OMyKF_N",
        "outputId": "065b174b-7cc3-4ac7-cd82-3ffb8042a744"
      },
      "source": [
        "y"
      ],
      "execution_count": 47,
      "outputs": [
        {
          "output_type": "execute_result",
          "data": {
            "text/plain": [
              "array(['Dog', 'Dog', 'Cat', ..., 'Cat', 'Dog', 'Cat'], dtype='<U3')"
            ]
          },
          "metadata": {},
          "execution_count": 47
        }
      ]
    },
    {
      "cell_type": "markdown",
      "metadata": {
        "id": "k-tTnGLAKXfP"
      },
      "source": [
        "Next: Create the tf.data pipeline."
      ]
    },
    {
      "cell_type": "code",
      "metadata": {
        "id": "Rcv90wPhKLnH"
      },
      "source": [
        ""
      ],
      "execution_count": null,
      "outputs": []
    }
  ]
}