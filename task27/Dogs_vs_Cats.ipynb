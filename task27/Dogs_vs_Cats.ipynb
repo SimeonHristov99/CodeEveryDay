{
  "nbformat": 4,
  "nbformat_minor": 0,
  "metadata": {
    "colab": {
      "name": "Dogs vs. Cats",
      "provenance": [],
      "collapsed_sections": [],
      "authorship_tag": "ABX9TyPDZd+CgaiA0WQiRGLKktMd",
      "include_colab_link": true
    },
    "kernelspec": {
      "name": "python3",
      "display_name": "Python 3"
    },
    "language_info": {
      "name": "python"
    },
    "accelerator": "GPU"
  },
  "cells": [
    {
      "cell_type": "markdown",
      "metadata": {
        "id": "view-in-github",
        "colab_type": "text"
      },
      "source": [
        "<a href=\"https://colab.research.google.com/github/SimeonHristov99/CodeEveryDay/blob/main/Dogs_vs_Cats.ipynb\" target=\"_parent\"><img src=\"https://colab.research.google.com/assets/colab-badge.svg\" alt=\"Open In Colab\"/></a>"
      ]
    },
    {
      "cell_type": "markdown",
      "metadata": {
        "id": "Jny39MIntQHV"
      },
      "source": [
        "# Dogs vs. Cats Kaggle Challenge"
      ]
    },
    {
      "cell_type": "code",
      "metadata": {
        "colab": {
          "base_uri": "https://localhost:8080/"
        },
        "id": "WvMdgyA-AyMd",
        "outputId": "6d67e03e-6b9f-41fd-fbf1-ee59cf613335"
      },
      "source": [
        "import os\n",
        "import zipfile\n",
        "from glob import glob\n",
        "\n",
        "from functools import partial\n",
        "\n",
        "from sklearn.model_selection import train_test_split\n",
        "\n",
        "import tensorflow as tf\n",
        "print(tf.__version__)\n",
        "\n",
        "import numpy as np\n",
        "import matplotlib.pyplot as plt"
      ],
      "execution_count": 1,
      "outputs": [
        {
          "output_type": "stream",
          "name": "stdout",
          "text": [
            "2.7.0\n"
          ]
        }
      ]
    },
    {
      "cell_type": "code",
      "metadata": {
        "id": "lQ6yqqmXma-1"
      },
      "source": [
        "config = {\n",
        "    'kaggle_dir': '../gdrive/MyDrive/kaggle',\n",
        "    'data_path': '/content/data/train/train',\n",
        "    'shape': [150, 150, 3]\n",
        "}"
      ],
      "execution_count": 2,
      "outputs": []
    },
    {
      "cell_type": "code",
      "metadata": {
        "colab": {
          "base_uri": "https://localhost:8080/"
        },
        "id": "EzwGRtW2BOVP",
        "outputId": "3d41bb82-f8b5-4ee4-d71e-def91000a7bf"
      },
      "source": [
        "os.chdir('/content')\n",
        "if not os.path.isdir('data'):\n",
        "  kaggle_dir = config.get('kaggle_dir', None)\n",
        "\n",
        "  from google.colab import drive\n",
        "  drive.mount('/gdrive')\n",
        "  \n",
        "  assert kaggle_dir is not None and os.path.isdir(kaggle_dir), 'Kaggle directory not found!'\n",
        "  assert os.path.isfile(f'{kaggle_dir}/kaggle.json'), 'Kaggle API token not found!'\n",
        "\n",
        "  !pip install -q kaggle\n",
        "  os.environ['KAGGLE_CONFIG_DIR'] = kaggle_dir\n",
        "\n",
        "  # You have to enter in the competition to get access to the data.\n",
        "  !kaggle competitions download -c dogs-vs-cats -p /content/data/\n",
        "  assert os.path.isdir('data'), 'ERROR: Could not download the dataset!'\n",
        "\n",
        "  with zipfile.ZipFile(\"/content/data/test1.zip\",\"r\") as zip_ref:\n",
        "      zip_ref.extractall(\"/content/data/test1\")\n",
        "      os.remove(\"/content/data/test1.zip\")\n",
        "\n",
        "  with zipfile.ZipFile(\"/content/data/train.zip\",\"r\") as zip_ref:\n",
        "      zip_ref.extractall(\"/content/data/train\")\n",
        "      os.remove('/content/data/train.zip')\n",
        "\n",
        "  print('Successfully downloaded the dataset!')\n",
        "else:\n",
        "  print('Dataset already downloaded.')"
      ],
      "execution_count": 3,
      "outputs": [
        {
          "output_type": "stream",
          "name": "stdout",
          "text": [
            "Dataset already downloaded.\n"
          ]
        }
      ]
    },
    {
      "cell_type": "markdown",
      "metadata": {
        "id": "pH-bDAUstVrK"
      },
      "source": [
        "## EDA"
      ]
    },
    {
      "cell_type": "code",
      "metadata": {
        "colab": {
          "base_uri": "https://localhost:8080/"
        },
        "id": "jxQKNgYPHXkY",
        "outputId": "5b8325b5-fa0f-482b-d78f-524a5cb9fbca"
      },
      "source": [
        "len(glob('/content/data/train/train/dog*'))"
      ],
      "execution_count": 4,
      "outputs": [
        {
          "output_type": "execute_result",
          "data": {
            "text/plain": [
              "12500"
            ]
          },
          "metadata": {},
          "execution_count": 4
        }
      ]
    },
    {
      "cell_type": "code",
      "metadata": {
        "colab": {
          "base_uri": "https://localhost:8080/"
        },
        "id": "PkCbKsTlHvxp",
        "outputId": "2b8d1721-f1fe-4bc8-d4ce-b8ccb88e1791"
      },
      "source": [
        "len(glob('/content/data/train/train/cat*'))"
      ],
      "execution_count": 5,
      "outputs": [
        {
          "output_type": "execute_result",
          "data": {
            "text/plain": [
              "12500"
            ]
          },
          "metadata": {},
          "execution_count": 5
        }
      ]
    },
    {
      "cell_type": "code",
      "metadata": {
        "colab": {
          "base_uri": "https://localhost:8080/"
        },
        "id": "03PfMoujHOMN",
        "outputId": "4ea61adc-6662-43fe-c9ea-bd975685a1b8"
      },
      "source": [
        "len(glob('/content/data/train/train/*'))"
      ],
      "execution_count": 6,
      "outputs": [
        {
          "output_type": "execute_result",
          "data": {
            "text/plain": [
              "25000"
            ]
          },
          "metadata": {},
          "execution_count": 6
        }
      ]
    },
    {
      "cell_type": "markdown",
      "metadata": {
        "id": "-AY-aSmItNDw"
      },
      "source": [
        "Classes are balanced."
      ]
    },
    {
      "cell_type": "markdown",
      "metadata": {
        "id": "c1FtXdrUH10l"
      },
      "source": [
        "## Preprocessing"
      ]
    },
    {
      "cell_type": "code",
      "metadata": {
        "id": "YwbwrUChy-pH"
      },
      "source": [
        "def train_val_test_split(data_path):\n",
        "  X = np.array(glob(data_path + '/*'))\n",
        "  y = np.array([ x.split('.')[0][-3:].lower() for x in X ])\n",
        "\n",
        "  X_train, X_test, y_train, y_test = train_test_split(X, y, train_size=0.7, random_state=42)\n",
        "  X_val, X_test, y_val, y_test = train_test_split(X_test, y_test, train_size=0.5, random_state=42)\n",
        "\n",
        "  return X_train, X_val, X_test, y_train, y_val, y_test"
      ],
      "execution_count": 7,
      "outputs": []
    },
    {
      "cell_type": "code",
      "metadata": {
        "id": "cwWZR7n05EhA"
      },
      "source": [
        "@tf.function\n",
        "def parse(filenames, resize_to, will_augment):\n",
        "  image = filenames.get('image', None)\n",
        "  image = tf.io.read_file(image)\n",
        "  image = tf.io.decode_jpeg(image, channels=3)\n",
        "  image = tf.cast(image, tf.float16)\n",
        "  image = image / 127.5 - 1\n",
        "  image = tf.image.resize(image, resize_to)\n",
        "\n",
        "  label = filenames.get('label', None)\n",
        "  label = 1 if label == 'dog' else 0\n",
        "\n",
        "  if will_augment:\n",
        "    return {\n",
        "        'image': image,\n",
        "        'label': label,\n",
        "    }\n",
        "  \n",
        "  return image, label"
      ],
      "execution_count": 8,
      "outputs": []
    },
    {
      "cell_type": "code",
      "metadata": {
        "id": "OAcixKTXi2o8"
      },
      "source": [
        "@tf.function\n",
        "def augment(filenames):\n",
        "  image = filenames.get('image', None)\n",
        "  image = tf.image.random_flip_left_right(image)\n",
        "  # image = tf.image.random_flip_up_down(image)\n",
        "  # image = tf.image.random_brightness(image, 0.2)\n",
        "  # image = tf.image.random_contrast(image, 0.5, 2.0)\n",
        "  # image = tf.image.random_saturation(image, 0.75, 1.25)\n",
        "  # image = tf.image.random_hue(image, 0.1)\n",
        "  # image = tf.clip_by_value(image, 0.0, 1.0)  # Keep pixel values between 0 and 1.\n",
        "\n",
        "  return image, filenames.get('label', None)"
      ],
      "execution_count": 9,
      "outputs": []
    },
    {
      "cell_type": "code",
      "metadata": {
        "id": "TmYeuT7vzDm6"
      },
      "source": [
        "def generate_dataset(image_files, label_files, resize_to, shuffle, batch_size, do_augment):\n",
        "  data_dict = {\n",
        "      'image': tf.constant(image_files),\n",
        "      'label': tf.constant(label_files),\n",
        "  }\n",
        "\n",
        "  dataset = tf.data.Dataset.from_tensor_slices(data_dict)\n",
        "\n",
        "  # Parse the files.\n",
        "  parse_partial_fn = partial(parse, resize_to=resize_to, will_augment=do_augment)\n",
        "  dataset = dataset.map(parse_partial_fn, num_parallel_calls=tf.data.experimental.AUTOTUNE, deterministic=False)\n",
        "\n",
        "  # Cache the parsed files.\n",
        "  dataset = dataset.cache()\n",
        "\n",
        "  # Augment the images (if requested).\n",
        "  if do_augment:\n",
        "    dataset = dataset.map(augment, num_parallel_calls=tf.data.experimental.AUTOTUNE, deterministic=False)\n",
        "\n",
        "  # Shuffle the data.\n",
        "  if shuffle:\n",
        "    dataset = dataset.shuffle(buffer_size=len(image_files), reshuffle_each_iteration=True)\n",
        "\n",
        "  # Batch the data.\n",
        "  dataset = dataset.batch(batch_size, num_parallel_calls=tf.data.experimental.AUTOTUNE, deterministic=False)\n",
        "\n",
        "  # Include prefetching.\n",
        "  dataset = dataset.prefetch(buffer_size=tf.data.experimental.AUTOTUNE)\n",
        "\n",
        "  return dataset"
      ],
      "execution_count": 10,
      "outputs": []
    },
    {
      "cell_type": "code",
      "metadata": {
        "id": "mlM8x8_KvVfP"
      },
      "source": [
        "def get_datasets(resize_to, batch_size, shuffle_X_train, augment_X_train):\n",
        "  \"\"\"\n",
        "  Returns the three datasets (train, validation, test).\n",
        "  \"\"\"\n",
        "  # Get the filepaths to the different sets.\n",
        "  X_train, X_val, X_test, y_train, y_val, y_test = train_val_test_split(config.get('data_path', None))\n",
        "\n",
        "  # Get the datasets of tensors.\n",
        "  X_train_dataset = generate_dataset(X_train, y_train, resize_to, shuffle=shuffle_X_train, batch_size=batch_size, do_augment=augment_X_train)\n",
        "  X_val_dataset = generate_dataset(X_val, y_val, resize_to, shuffle=False, batch_size=batch_size, do_augment=False)\n",
        "  X_test_dataset = generate_dataset(X_test, y_test, resize_to, shuffle=False, batch_size=batch_size, do_augment=False)\n",
        "\n",
        "  return X_train_dataset, X_val_dataset, X_test_dataset"
      ],
      "execution_count": 11,
      "outputs": []
    },
    {
      "cell_type": "markdown",
      "metadata": {
        "id": "hYhucax_hOpC"
      },
      "source": [
        "## Model selection"
      ]
    },
    {
      "cell_type": "code",
      "metadata": {
        "id": "8kP_fwQUyzoH"
      },
      "source": [
        "shape = config.get('shape', None)"
      ],
      "execution_count": 12,
      "outputs": []
    },
    {
      "cell_type": "code",
      "metadata": {
        "colab": {
          "base_uri": "https://localhost:8080/"
        },
        "id": "EZbj2oiWhQAW",
        "outputId": "8718b62b-c8a2-49fb-fdbc-673cdba2de9e"
      },
      "source": [
        "X_train_dataset, X_val_dataset, X_test_dataset = get_datasets(resize_to=shape[:2], batch_size=4, shuffle_X_train=True, augment_X_train=True)\n",
        "\n",
        "base_model = tf.keras.applications.Xception(\n",
        "    weights='imagenet',  # Load weights pre-trained on ImageNet.\n",
        "    input_shape=shape,\n",
        "    include_top=False  # Do not include the ImageNet classifier at the top.\n",
        ")\n",
        "\n",
        "base_model.trainable = False\n",
        "\n",
        "inputs = tf.keras.Input(shape=shape)\n",
        "# We make sure that the base_model is running in inference mode here,\n",
        "# by passing `training=False`. This is important for fine-tuning, as you will\n",
        "# learn in a few paragraphs.\n",
        "x = base_model(inputs, training=False)\n",
        "# Convert features of shape `base_model.output_shape[1:]` to vectors\n",
        "x = tf.keras.layers.GlobalAveragePooling2D()(x)\n",
        "# A Dense classifier with a single unit (binary classification)\n",
        "outputs = tf.keras.layers.Dense(1)(x)\n",
        "model = tf.keras.Model(inputs, outputs)\n",
        "\n",
        "model.summary()"
      ],
      "execution_count": 13,
      "outputs": [
        {
          "output_type": "stream",
          "name": "stdout",
          "text": [
            "Model: \"model\"\n",
            "_________________________________________________________________\n",
            " Layer (type)                Output Shape              Param #   \n",
            "=================================================================\n",
            " input_2 (InputLayer)        [(None, 150, 150, 3)]     0         \n",
            "                                                                 \n",
            " xception (Functional)       (None, 5, 5, 2048)        20861480  \n",
            "                                                                 \n",
            " global_average_pooling2d (G  (None, 2048)             0         \n",
            " lobalAveragePooling2D)                                          \n",
            "                                                                 \n",
            " dense (Dense)               (None, 1)                 2049      \n",
            "                                                                 \n",
            "=================================================================\n",
            "Total params: 20,863,529\n",
            "Trainable params: 2,049\n",
            "Non-trainable params: 20,861,480\n",
            "_________________________________________________________________\n"
          ]
        }
      ]
    },
    {
      "cell_type": "code",
      "metadata": {
        "colab": {
          "base_uri": "https://localhost:8080/"
        },
        "id": "tz3-qt13v1C9",
        "outputId": "d93aebd9-455d-404a-db7e-bd8c39e35e8d"
      },
      "source": [
        "X_train_dataset, X_val_dataset, X_test_dataset = get_datasets(resize_to=shape[:2], batch_size=4, shuffle_X_train=True, augment_X_train=True)\n",
        "\n",
        "custom_model = tf.keras.models.Sequential([\n",
        "    tf.keras.layers.Conv2D(32, kernel_size=3, activation='relu', padding='same', input_shape=shape),\n",
        "    tf.keras.layers.MaxPool2D(),\n",
        "    tf.keras.layers.Conv2D(64, kernel_size=3, activation='relu', padding='same'),\n",
        "    tf.keras.layers.MaxPool2D(),\n",
        "    tf.keras.layers.Conv2D(128, kernel_size=3, activation='relu', padding='same'),\n",
        "    tf.keras.layers.MaxPool2D(),\n",
        "\n",
        "    tf.keras.layers.Flatten(),\n",
        "    tf.keras.layers.BatchNormalization(),\n",
        "    tf.keras.layers.Dense(1)\n",
        "])\n",
        "\n",
        "custom_model.summary()"
      ],
      "execution_count": 14,
      "outputs": [
        {
          "output_type": "stream",
          "name": "stdout",
          "text": [
            "Model: \"sequential\"\n",
            "_________________________________________________________________\n",
            " Layer (type)                Output Shape              Param #   \n",
            "=================================================================\n",
            " conv2d_4 (Conv2D)           (None, 150, 150, 32)      896       \n",
            "                                                                 \n",
            " max_pooling2d (MaxPooling2D  (None, 75, 75, 32)       0         \n",
            " )                                                               \n",
            "                                                                 \n",
            " conv2d_5 (Conv2D)           (None, 75, 75, 64)        18496     \n",
            "                                                                 \n",
            " max_pooling2d_1 (MaxPooling  (None, 37, 37, 64)       0         \n",
            " 2D)                                                             \n",
            "                                                                 \n",
            " conv2d_6 (Conv2D)           (None, 37, 37, 128)       73856     \n",
            "                                                                 \n",
            " max_pooling2d_2 (MaxPooling  (None, 18, 18, 128)      0         \n",
            " 2D)                                                             \n",
            "                                                                 \n",
            " flatten (Flatten)           (None, 41472)             0         \n",
            "                                                                 \n",
            " batch_normalization_4 (Batc  (None, 41472)            165888    \n",
            " hNormalization)                                                 \n",
            "                                                                 \n",
            " dense_1 (Dense)             (None, 1)                 41473     \n",
            "                                                                 \n",
            "=================================================================\n",
            "Total params: 300,609\n",
            "Trainable params: 217,665\n",
            "Non-trainable params: 82,944\n",
            "_________________________________________________________________\n"
          ]
        }
      ]
    },
    {
      "cell_type": "markdown",
      "metadata": {
        "id": "TTwF1754sfaP"
      },
      "source": [
        "## Training"
      ]
    },
    {
      "cell_type": "markdown",
      "metadata": {
        "id": "bUfxfwgRvef5"
      },
      "source": [
        "### via a custom model (fast, but not accurate)"
      ]
    },
    {
      "cell_type": "code",
      "metadata": {
        "colab": {
          "base_uri": "https://localhost:8080/"
        },
        "id": "irStqLVFvS8g",
        "outputId": "ab96c849-5c2d-4c0c-e869-6121e1844d8c"
      },
      "source": [
        "custom_model.compile(optimizer=tf.keras.optimizers.Adam(),\n",
        "              loss=tf.keras.losses.BinaryCrossentropy(from_logits=True),\n",
        "              metrics=[\n",
        "                       tf.keras.metrics.BinaryAccuracy()\n",
        "              ])\n",
        "custom_model.fit(\n",
        "    X_train_dataset,\n",
        "    epochs=2,\n",
        "    validation_data=X_val_dataset\n",
        ")"
      ],
      "execution_count": 15,
      "outputs": [
        {
          "output_type": "stream",
          "name": "stdout",
          "text": [
            "Epoch 1/2\n",
            "4375/4375 [==============================] - 266s 21ms/step - loss: 1.0373 - binary_accuracy: 0.5547 - val_loss: 1.1685 - val_binary_accuracy: 0.5501\n",
            "Epoch 2/2\n",
            "4375/4375 [==============================] - 63s 14ms/step - loss: 0.8216 - binary_accuracy: 0.5765 - val_loss: 1.0545 - val_binary_accuracy: 0.5440\n"
          ]
        },
        {
          "output_type": "execute_result",
          "data": {
            "text/plain": [
              "<keras.callbacks.History at 0x7faf39f46150>"
            ]
          },
          "metadata": {},
          "execution_count": 15
        }
      ]
    },
    {
      "cell_type": "markdown",
      "metadata": {
        "id": "kHMbz6GCvT5C"
      },
      "source": [
        "### via transfer learning (takes a lot of time, but you get >= 95% accuracy)"
      ]
    },
    {
      "cell_type": "code",
      "metadata": {
        "colab": {
          "base_uri": "https://localhost:8080/"
        },
        "id": "zvKOArX6k6eO",
        "outputId": "86083fa3-7e85-4e49-bc37-518892c445b8"
      },
      "source": [
        "model.compile(optimizer=tf.keras.optimizers.Adam(),\n",
        "              loss=tf.keras.losses.BinaryCrossentropy(from_logits=True),\n",
        "              metrics=[\n",
        "                       tf.keras.metrics.BinaryAccuracy()\n",
        "              ])\n",
        "model.fit(\n",
        "    X_train_dataset,\n",
        "    epochs=2,\n",
        "    validation_data=X_val_dataset\n",
        ")"
      ],
      "execution_count": 16,
      "outputs": [
        {
          "output_type": "stream",
          "name": "stdout",
          "text": [
            "Epoch 1/2\n",
            "4375/4375 [==============================] - 180s 39ms/step - loss: 0.0869 - binary_accuracy: 0.9678 - val_loss: 0.0931 - val_binary_accuracy: 0.9659\n",
            "Epoch 2/2\n",
            "4375/4375 [==============================] - 175s 39ms/step - loss: 0.0704 - binary_accuracy: 0.9745 - val_loss: 0.0812 - val_binary_accuracy: 0.9693\n"
          ]
        },
        {
          "output_type": "execute_result",
          "data": {
            "text/plain": [
              "<keras.callbacks.History at 0x7faf304f6a90>"
            ]
          },
          "metadata": {},
          "execution_count": 16
        }
      ]
    },
    {
      "cell_type": "code",
      "metadata": {
        "id": "bGPjLFOKli9V"
      },
      "source": [
        "model.save_weights('./weights', save_format=\"h5\")"
      ],
      "execution_count": 25,
      "outputs": []
    },
    {
      "cell_type": "code",
      "metadata": {
        "colab": {
          "base_uri": "https://localhost:8080/",
          "height": 17
        },
        "id": "rH-PVSi6-YU9",
        "outputId": "6784f3ea-8755-445e-af5a-82bb2dc6d09c"
      },
      "source": [
        "from google.colab import files\n",
        "\n",
        "files.download('./weights')"
      ],
      "execution_count": 37,
      "outputs": [
        {
          "output_type": "display_data",
          "data": {
            "application/javascript": [
              "\n",
              "    async function download(id, filename, size) {\n",
              "      if (!google.colab.kernel.accessAllowed) {\n",
              "        return;\n",
              "      }\n",
              "      const div = document.createElement('div');\n",
              "      const label = document.createElement('label');\n",
              "      label.textContent = `Downloading \"${filename}\": `;\n",
              "      div.appendChild(label);\n",
              "      const progress = document.createElement('progress');\n",
              "      progress.max = size;\n",
              "      div.appendChild(progress);\n",
              "      document.body.appendChild(div);\n",
              "\n",
              "      const buffers = [];\n",
              "      let downloaded = 0;\n",
              "\n",
              "      const channel = await google.colab.kernel.comms.open(id);\n",
              "      // Send a message to notify the kernel that we're ready.\n",
              "      channel.send({})\n",
              "\n",
              "      for await (const message of channel.messages) {\n",
              "        // Send a message to notify the kernel that we're ready.\n",
              "        channel.send({})\n",
              "        if (message.buffers) {\n",
              "          for (const buffer of message.buffers) {\n",
              "            buffers.push(buffer);\n",
              "            downloaded += buffer.byteLength;\n",
              "            progress.value = downloaded;\n",
              "          }\n",
              "        }\n",
              "      }\n",
              "      const blob = new Blob(buffers, {type: 'application/binary'});\n",
              "      const a = document.createElement('a');\n",
              "      a.href = window.URL.createObjectURL(blob);\n",
              "      a.download = filename;\n",
              "      div.appendChild(a);\n",
              "      a.click();\n",
              "      div.remove();\n",
              "    }\n",
              "  "
            ],
            "text/plain": [
              "<IPython.core.display.Javascript object>"
            ]
          },
          "metadata": {}
        },
        {
          "output_type": "display_data",
          "data": {
            "application/javascript": [
              "download(\"download_09dc211f-b905-4d75-bddb-366a8e72fcf0\", \"weights\", 83642352)"
            ],
            "text/plain": [
              "<IPython.core.display.Javascript object>"
            ]
          },
          "metadata": {}
        }
      ]
    },
    {
      "cell_type": "code",
      "metadata": {
        "colab": {
          "base_uri": "https://localhost:8080/"
        },
        "id": "RMy5WXC9Aiu2",
        "outputId": "42f0f558-d6c4-4103-8adc-c4a2f2e7db79"
      },
      "source": [
        "preds = model.predict(X_test_dataset)\n",
        "preds"
      ],
      "execution_count": 40,
      "outputs": [
        {
          "output_type": "execute_result",
          "data": {
            "text/plain": [
              "array([[ -9.525462 ],\n",
              "       [-13.823194 ],\n",
              "       [  1.8771325],\n",
              "       ...,\n",
              "       [  7.4840946],\n",
              "       [  5.8015013],\n",
              "       [  5.4676533]], dtype=float32)"
            ]
          },
          "metadata": {},
          "execution_count": 40
        }
      ]
    },
    {
      "cell_type": "code",
      "metadata": {
        "colab": {
          "base_uri": "https://localhost:8080/"
        },
        "id": "SKsW0zddBIMW",
        "outputId": "cecc5048-a000-4026-b50d-df7e35982710"
      },
      "source": [
        "tf.cast(tf.keras.activations.sigmoid(preds) > 0.5, tf.uint8)"
      ],
      "execution_count": 45,
      "outputs": [
        {
          "output_type": "execute_result",
          "data": {
            "text/plain": [
              "<tf.Tensor: shape=(3750, 1), dtype=uint8, numpy=\n",
              "array([[0],\n",
              "       [0],\n",
              "       [1],\n",
              "       ...,\n",
              "       [1],\n",
              "       [1],\n",
              "       [1]], dtype=uint8)>"
            ]
          },
          "metadata": {},
          "execution_count": 45
        }
      ]
    },
    {
      "cell_type": "code",
      "metadata": {
        "id": "swZtUlCJBtSp"
      },
      "source": [
        ""
      ],
      "execution_count": null,
      "outputs": []
    }
  ]
}