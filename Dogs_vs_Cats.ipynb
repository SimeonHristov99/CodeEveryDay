{
  "nbformat": 4,
  "nbformat_minor": 0,
  "metadata": {
    "colab": {
      "name": "Dogs vs. Cats",
      "provenance": [],
      "collapsed_sections": [],
      "authorship_tag": "ABX9TyMjK4nCB+NN4Zrh8rMfHhGL",
      "include_colab_link": true
    },
    "kernelspec": {
      "name": "python3",
      "display_name": "Python 3"
    },
    "language_info": {
      "name": "python"
    }
  },
  "cells": [
    {
      "cell_type": "markdown",
      "metadata": {
        "id": "view-in-github",
        "colab_type": "text"
      },
      "source": [
        "<a href=\"https://colab.research.google.com/github/SimeonHristov99/CodeEveryDay/blob/main/Dogs_vs_Cats.ipynb\" target=\"_parent\"><img src=\"https://colab.research.google.com/assets/colab-badge.svg\" alt=\"Open In Colab\"/></a>"
      ]
    },
    {
      "cell_type": "markdown",
      "metadata": {
        "id": "Jny39MIntQHV"
      },
      "source": [
        "# Dogs vs. Cats Kaggle Challenge"
      ]
    },
    {
      "cell_type": "code",
      "metadata": {
        "colab": {
          "base_uri": "https://localhost:8080/"
        },
        "id": "WvMdgyA-AyMd",
        "outputId": "808aa083-e93a-4d4c-ee2e-8fca1ae25201"
      },
      "source": [
        "import os\n",
        "import zipfile\n",
        "from glob import glob\n",
        "\n",
        "from functools import partial\n",
        "\n",
        "from sklearn.model_selection import train_test_split\n",
        "\n",
        "import tensorflow as tf\n",
        "print(tf.__version__)\n",
        "\n",
        "import numpy as np\n",
        "import matplotlib.pyplot as plt"
      ],
      "execution_count": 1,
      "outputs": [
        {
          "output_type": "stream",
          "name": "stdout",
          "text": [
            "2.7.0\n"
          ]
        }
      ]
    },
    {
      "cell_type": "code",
      "metadata": {
        "id": "7XbcWW7vBPrs"
      },
      "source": [
        "config = {\n",
        "    'kaggle_dir': '../gdrive/MyDrive/kaggle',\n",
        "    'data_path': '/content/data/train/train'\n",
        "}"
      ],
      "execution_count": 2,
      "outputs": []
    },
    {
      "cell_type": "code",
      "metadata": {
        "colab": {
          "base_uri": "https://localhost:8080/"
        },
        "id": "EzwGRtW2BOVP",
        "outputId": "35ba2200-f030-4abb-b72a-b55b19937b15"
      },
      "source": [
        "os.chdir('/content')\n",
        "if not os.path.isdir('data'):\n",
        "  kaggle_dir = config.get('kaggle_dir', None)\n",
        "\n",
        "  from google.colab import drive\n",
        "  drive.mount('/gdrive')\n",
        "  \n",
        "  assert kaggle_dir is not None and os.path.isdir(kaggle_dir), 'Kaggle directory not found!'\n",
        "  assert os.path.isfile(f'{kaggle_dir}/kaggle.json'), 'Kaggle API token not found!'\n",
        "\n",
        "  !pip install -q kaggle\n",
        "  os.environ['KAGGLE_CONFIG_DIR'] = kaggle_dir\n",
        "\n",
        "  # You have to enter in the competition to get access to the data.\n",
        "  !kaggle competitions download -c dogs-vs-cats -p /content/data/\n",
        "  assert os.path.isdir('data'), 'ERROR: Could not download the dataset!'\n",
        "\n",
        "  with zipfile.ZipFile(\"/content/data/test1.zip\",\"r\") as zip_ref:\n",
        "      zip_ref.extractall(\"/content/data/test1\")\n",
        "      os.remove(\"/content/data/test1.zip\")\n",
        "\n",
        "  with zipfile.ZipFile(\"/content/data/train.zip\",\"r\") as zip_ref:\n",
        "      zip_ref.extractall(\"/content/data/train\")\n",
        "      os.remove('/content/data/train.zip')\n",
        "\n",
        "  print('Successfully downloaded the dataset!')\n",
        "else:\n",
        "  print('Dataset already downloaded.')"
      ],
      "execution_count": 3,
      "outputs": [
        {
          "output_type": "stream",
          "name": "stdout",
          "text": [
            "Dataset already downloaded.\n"
          ]
        }
      ]
    },
    {
      "cell_type": "markdown",
      "metadata": {
        "id": "pH-bDAUstVrK"
      },
      "source": [
        "## EDA"
      ]
    },
    {
      "cell_type": "code",
      "metadata": {
        "colab": {
          "base_uri": "https://localhost:8080/"
        },
        "id": "jxQKNgYPHXkY",
        "outputId": "6c180e1c-fa82-4363-ea4f-90fd725e728c"
      },
      "source": [
        "len(glob('/content/data/train/train/dog*'))"
      ],
      "execution_count": 4,
      "outputs": [
        {
          "output_type": "execute_result",
          "data": {
            "text/plain": [
              "12500"
            ]
          },
          "metadata": {},
          "execution_count": 4
        }
      ]
    },
    {
      "cell_type": "code",
      "metadata": {
        "colab": {
          "base_uri": "https://localhost:8080/"
        },
        "id": "PkCbKsTlHvxp",
        "outputId": "0ca98c13-d777-4958-8d0f-260d32e9b1af"
      },
      "source": [
        "len(glob('/content/data/train/train/cat*'))"
      ],
      "execution_count": 5,
      "outputs": [
        {
          "output_type": "execute_result",
          "data": {
            "text/plain": [
              "12500"
            ]
          },
          "metadata": {},
          "execution_count": 5
        }
      ]
    },
    {
      "cell_type": "code",
      "metadata": {
        "colab": {
          "base_uri": "https://localhost:8080/"
        },
        "id": "03PfMoujHOMN",
        "outputId": "90554aec-2fdc-46fd-ad07-5e86c261ddff"
      },
      "source": [
        "len(glob('/content/data/train/train/*'))"
      ],
      "execution_count": 6,
      "outputs": [
        {
          "output_type": "execute_result",
          "data": {
            "text/plain": [
              "25000"
            ]
          },
          "metadata": {},
          "execution_count": 6
        }
      ]
    },
    {
      "cell_type": "markdown",
      "metadata": {
        "id": "-AY-aSmItNDw"
      },
      "source": [
        "Classes are balanced."
      ]
    },
    {
      "cell_type": "markdown",
      "metadata": {
        "id": "c1FtXdrUH10l"
      },
      "source": [
        "## Preprocessing"
      ]
    },
    {
      "cell_type": "code",
      "metadata": {
        "id": "YwbwrUChy-pH"
      },
      "source": [
        "def train_val_test_split(data_path):\n",
        "  X = np.array(glob(data_path + '/*'))\n",
        "  y = np.array([ x.split('.')[0][-3:].lower() for x in X ])\n",
        "\n",
        "  X_train, X_test, y_train, y_test = train_test_split(X, y, train_size=0.7, random_state=42)\n",
        "  X_val, X_test, y_val, y_test = train_test_split(X_test, y_test, train_size=0.5, random_state=42)\n",
        "\n",
        "  return X_train, X_val, X_test, y_train, y_val, y_test"
      ],
      "execution_count": 7,
      "outputs": []
    },
    {
      "cell_type": "code",
      "metadata": {
        "id": "cwWZR7n05EhA"
      },
      "source": [
        "@tf.function\n",
        "def parse(filenames, resize_to, will_augment):\n",
        "  image = filenames.get('image', None)\n",
        "  image = tf.io.read_file(image)\n",
        "  image = tf.io.decode_jpeg(image, channels=3)\n",
        "  image = tf.image.convert_image_dtype(image, tf.float32) # Convert to float and normalize at the same time.\n",
        "  image = tf.image.resize(image, resize_to)\n",
        "\n",
        "  label = filenames.get('label', None)\n",
        "  label = 1 if label == 'dog' else 0\n",
        "\n",
        "  if will_augment:\n",
        "    return {\n",
        "        'image': image,\n",
        "        'label': label,\n",
        "    }\n",
        "  \n",
        "  return image, label"
      ],
      "execution_count": 8,
      "outputs": []
    },
    {
      "cell_type": "code",
      "metadata": {
        "id": "OAcixKTXi2o8"
      },
      "source": [
        "@tf.function\n",
        "def augment(filenames):\n",
        "  image = filenames.get('image', None)\n",
        "  image = tf.image.random_flip_left_right(image)\n",
        "  image = tf.image.random_flip_up_down(image)\n",
        "  image = tf.image.random_brightness(image, 0.2)\n",
        "  image = tf.image.random_contrast(image, 0.5, 2.0)\n",
        "  image = tf.image.random_saturation(image, 0.75, 1.25)\n",
        "  image = tf.image.random_hue(image, 0.1)\n",
        "  image = tf.clip_by_value(image, 0.0, 1.0)  # Keep pixel values between 0 and 1.\n",
        "\n",
        "  return image, filenames.get('label', None)"
      ],
      "execution_count": 9,
      "outputs": []
    },
    {
      "cell_type": "code",
      "metadata": {
        "id": "TmYeuT7vzDm6"
      },
      "source": [
        "def generate_dataset(image_files, label_files, resize_to, shuffle, batch_size, do_augment):\n",
        "  data_dict = {\n",
        "      'image': tf.constant(image_files),\n",
        "      'label': tf.constant(label_files),\n",
        "  }\n",
        "\n",
        "  dataset = tf.data.Dataset.from_tensor_slices(data_dict)\n",
        "\n",
        "  # Parse the files.\n",
        "  parse_partial_fn = partial(parse, resize_to=resize_to, will_augment=do_augment)\n",
        "  dataset = dataset.map(parse_partial_fn, num_parallel_calls=tf.data.experimental.AUTOTUNE, deterministic=False)\n",
        "\n",
        "  # Cache the parsed files.\n",
        "  dataset = dataset.cache()\n",
        "\n",
        "  # Augment the images (if requested).\n",
        "  if do_augment:\n",
        "    dataset = dataset.map(augment, num_parallel_calls=tf.data.experimental.AUTOTUNE, deterministic=False)\n",
        "\n",
        "  # Shuffle the data.\n",
        "  if shuffle:\n",
        "    dataset = dataset.shuffle(buffer_size=len(image_files), reshuffle_each_iteration=True)\n",
        "\n",
        "  # Batch the data.\n",
        "  dataset = dataset.batch(batch_size, num_parallel_calls=tf.data.experimental.AUTOTUNE, deterministic=False)\n",
        "\n",
        "  # Include prefetching.\n",
        "  dataset = dataset.prefetch(buffer_size=tf.data.experimental.AUTOTUNE)\n",
        "\n",
        "  return dataset"
      ],
      "execution_count": 10,
      "outputs": []
    },
    {
      "cell_type": "code",
      "metadata": {
        "id": "mlM8x8_KvVfP"
      },
      "source": [
        "def get_datasets(resize_to, batch_size, shuffle_X_train, augment_X_train):\n",
        "  \"\"\"\n",
        "  Returns the three datasets (train, validation, test).\n",
        "  \"\"\"\n",
        "  # Get the filepaths to the different sets.\n",
        "  X_train, X_val, X_test, y_train, y_val, y_test = train_val_test_split(config.get('data_path', None))\n",
        "\n",
        "  # Get the datasets of tensors.\n",
        "  X_train_dataset = generate_dataset(X_train, y_train, resize_to, shuffle=shuffle_X_train, batch_size=batch_size, do_augment=augment_X_train)\n",
        "  X_val_dataset = generate_dataset(X_val, y_val, resize_to, shuffle=False, batch_size=batch_size, do_augment=False)\n",
        "  X_test_dataset = generate_dataset(X_test, y_test, resize_to, shuffle=False, batch_size=batch_size, do_augment=False)\n",
        "\n",
        "  return X_train_dataset, X_val_dataset, X_test_dataset"
      ],
      "execution_count": 11,
      "outputs": []
    },
    {
      "cell_type": "code",
      "metadata": {
        "id": "_gj49ajVpFNI"
      },
      "source": [
        "X_train_dataset, X_val_dataset, X_test_dataset = get_datasets(resize_to=[224, 224], batch_size=4, shuffle_X_train=True, augment_X_train=True)"
      ],
      "execution_count": 12,
      "outputs": []
    },
    {
      "cell_type": "markdown",
      "metadata": {
        "id": "TTwF1754sfaP"
      },
      "source": [
        "## Training"
      ]
    },
    {
      "cell_type": "code",
      "metadata": {
        "id": "pbyU34wHsNsu"
      },
      "source": [
        "it = X_train_dataset.__iter__()\n",
        "image_show1, label1 = it.__next__()"
      ],
      "execution_count": null,
      "outputs": []
    },
    {
      "cell_type": "code",
      "metadata": {
        "id": "9fDVK2cctcjS"
      },
      "source": [
        ""
      ],
      "execution_count": null,
      "outputs": []
    }
  ]
}